{
 "cells": [
  {
   "cell_type": "code",
   "execution_count": 18,
   "metadata": {},
   "outputs": [],
   "source": [
    "import numpy as np\n",
    "import pandas as pd"
   ]
  },
  {
   "cell_type": "code",
   "execution_count": 16,
   "metadata": {},
   "outputs": [
    {
     "name": "stdout",
     "output_type": "stream",
     "text": [
      "C:\\Users\\Deepak\\Desktop\n"
     ]
    }
   ],
   "source": [
    "cd\\Users\\Deepak\\Desktop"
   ]
  },
  {
   "cell_type": "code",
   "execution_count": 17,
   "metadata": {},
   "outputs": [],
   "source": [
    "data = pd.read_csv('data_stocks.csv')"
   ]
  },
  {
   "cell_type": "code",
   "execution_count": 22,
   "metadata": {},
   "outputs": [
    {
     "name": "stdout",
     "output_type": "stream",
     "text": [
      "<class 'pandas.core.frame.DataFrame'>\n",
      "RangeIndex: 41266 entries, 0 to 41265\n",
      "Columns: 502 entries, DATE to NYSE.ZTS\n",
      "dtypes: float64(501), int64(1)\n",
      "memory usage: 158.0 MB\n"
     ]
    }
   ],
   "source": [
    "data.info()"
   ]
  },
  {
   "cell_type": "code",
   "execution_count": 23,
   "metadata": {},
   "outputs": [
    {
     "data": {
      "text/html": [
       "<div>\n",
       "<style scoped>\n",
       "    .dataframe tbody tr th:only-of-type {\n",
       "        vertical-align: middle;\n",
       "    }\n",
       "\n",
       "    .dataframe tbody tr th {\n",
       "        vertical-align: top;\n",
       "    }\n",
       "\n",
       "    .dataframe thead th {\n",
       "        text-align: right;\n",
       "    }\n",
       "</style>\n",
       "<table border=\"1\" class=\"dataframe\">\n",
       "  <thead>\n",
       "    <tr style=\"text-align: right;\">\n",
       "      <th></th>\n",
       "      <th>DATE</th>\n",
       "      <th>SP500</th>\n",
       "      <th>NASDAQ.AAL</th>\n",
       "      <th>NASDAQ.AAPL</th>\n",
       "      <th>NASDAQ.ADBE</th>\n",
       "      <th>NASDAQ.ADI</th>\n",
       "      <th>NASDAQ.ADP</th>\n",
       "      <th>NASDAQ.ADSK</th>\n",
       "      <th>NASDAQ.AKAM</th>\n",
       "      <th>NASDAQ.ALXN</th>\n",
       "      <th>...</th>\n",
       "      <th>NYSE.WYN</th>\n",
       "      <th>NYSE.XEC</th>\n",
       "      <th>NYSE.XEL</th>\n",
       "      <th>NYSE.XL</th>\n",
       "      <th>NYSE.XOM</th>\n",
       "      <th>NYSE.XRX</th>\n",
       "      <th>NYSE.XYL</th>\n",
       "      <th>NYSE.YUM</th>\n",
       "      <th>NYSE.ZBH</th>\n",
       "      <th>NYSE.ZTS</th>\n",
       "    </tr>\n",
       "  </thead>\n",
       "  <tbody>\n",
       "    <tr>\n",
       "      <th>0</th>\n",
       "      <td>1491226200</td>\n",
       "      <td>2363.6101</td>\n",
       "      <td>42.3300</td>\n",
       "      <td>143.6800</td>\n",
       "      <td>129.6300</td>\n",
       "      <td>82.040</td>\n",
       "      <td>102.2300</td>\n",
       "      <td>85.2200</td>\n",
       "      <td>59.760</td>\n",
       "      <td>121.52</td>\n",
       "      <td>...</td>\n",
       "      <td>84.370</td>\n",
       "      <td>119.035</td>\n",
       "      <td>44.40</td>\n",
       "      <td>39.88</td>\n",
       "      <td>82.03</td>\n",
       "      <td>7.36</td>\n",
       "      <td>50.22</td>\n",
       "      <td>63.86</td>\n",
       "      <td>122.000</td>\n",
       "      <td>53.350</td>\n",
       "    </tr>\n",
       "    <tr>\n",
       "      <th>1</th>\n",
       "      <td>1491226260</td>\n",
       "      <td>2364.1001</td>\n",
       "      <td>42.3600</td>\n",
       "      <td>143.7000</td>\n",
       "      <td>130.3200</td>\n",
       "      <td>82.080</td>\n",
       "      <td>102.1400</td>\n",
       "      <td>85.6500</td>\n",
       "      <td>59.840</td>\n",
       "      <td>121.48</td>\n",
       "      <td>...</td>\n",
       "      <td>84.370</td>\n",
       "      <td>119.035</td>\n",
       "      <td>44.11</td>\n",
       "      <td>39.88</td>\n",
       "      <td>82.03</td>\n",
       "      <td>7.38</td>\n",
       "      <td>50.22</td>\n",
       "      <td>63.74</td>\n",
       "      <td>121.770</td>\n",
       "      <td>53.350</td>\n",
       "    </tr>\n",
       "    <tr>\n",
       "      <th>2</th>\n",
       "      <td>1491226320</td>\n",
       "      <td>2362.6799</td>\n",
       "      <td>42.3100</td>\n",
       "      <td>143.6901</td>\n",
       "      <td>130.2250</td>\n",
       "      <td>82.030</td>\n",
       "      <td>102.2125</td>\n",
       "      <td>85.5100</td>\n",
       "      <td>59.795</td>\n",
       "      <td>121.93</td>\n",
       "      <td>...</td>\n",
       "      <td>84.585</td>\n",
       "      <td>119.260</td>\n",
       "      <td>44.09</td>\n",
       "      <td>39.98</td>\n",
       "      <td>82.02</td>\n",
       "      <td>7.36</td>\n",
       "      <td>50.12</td>\n",
       "      <td>63.75</td>\n",
       "      <td>121.700</td>\n",
       "      <td>53.365</td>\n",
       "    </tr>\n",
       "    <tr>\n",
       "      <th>3</th>\n",
       "      <td>1491226380</td>\n",
       "      <td>2364.3101</td>\n",
       "      <td>42.3700</td>\n",
       "      <td>143.6400</td>\n",
       "      <td>130.0729</td>\n",
       "      <td>82.000</td>\n",
       "      <td>102.1400</td>\n",
       "      <td>85.4872</td>\n",
       "      <td>59.620</td>\n",
       "      <td>121.44</td>\n",
       "      <td>...</td>\n",
       "      <td>84.460</td>\n",
       "      <td>119.260</td>\n",
       "      <td>44.25</td>\n",
       "      <td>39.99</td>\n",
       "      <td>82.02</td>\n",
       "      <td>7.35</td>\n",
       "      <td>50.16</td>\n",
       "      <td>63.88</td>\n",
       "      <td>121.700</td>\n",
       "      <td>53.380</td>\n",
       "    </tr>\n",
       "    <tr>\n",
       "      <th>4</th>\n",
       "      <td>1491226440</td>\n",
       "      <td>2364.8501</td>\n",
       "      <td>42.5378</td>\n",
       "      <td>143.6600</td>\n",
       "      <td>129.8800</td>\n",
       "      <td>82.035</td>\n",
       "      <td>102.0600</td>\n",
       "      <td>85.7001</td>\n",
       "      <td>59.620</td>\n",
       "      <td>121.60</td>\n",
       "      <td>...</td>\n",
       "      <td>84.470</td>\n",
       "      <td>119.610</td>\n",
       "      <td>44.11</td>\n",
       "      <td>39.96</td>\n",
       "      <td>82.03</td>\n",
       "      <td>7.36</td>\n",
       "      <td>50.20</td>\n",
       "      <td>63.91</td>\n",
       "      <td>121.695</td>\n",
       "      <td>53.240</td>\n",
       "    </tr>\n",
       "  </tbody>\n",
       "</table>\n",
       "<p>5 rows × 502 columns</p>\n",
       "</div>"
      ],
      "text/plain": [
       "         DATE      SP500  NASDAQ.AAL  NASDAQ.AAPL  NASDAQ.ADBE  NASDAQ.ADI  \\\n",
       "0  1491226200  2363.6101     42.3300     143.6800     129.6300      82.040   \n",
       "1  1491226260  2364.1001     42.3600     143.7000     130.3200      82.080   \n",
       "2  1491226320  2362.6799     42.3100     143.6901     130.2250      82.030   \n",
       "3  1491226380  2364.3101     42.3700     143.6400     130.0729      82.000   \n",
       "4  1491226440  2364.8501     42.5378     143.6600     129.8800      82.035   \n",
       "\n",
       "   NASDAQ.ADP  NASDAQ.ADSK  NASDAQ.AKAM  NASDAQ.ALXN    ...     NYSE.WYN  \\\n",
       "0    102.2300      85.2200       59.760       121.52    ...       84.370   \n",
       "1    102.1400      85.6500       59.840       121.48    ...       84.370   \n",
       "2    102.2125      85.5100       59.795       121.93    ...       84.585   \n",
       "3    102.1400      85.4872       59.620       121.44    ...       84.460   \n",
       "4    102.0600      85.7001       59.620       121.60    ...       84.470   \n",
       "\n",
       "   NYSE.XEC  NYSE.XEL  NYSE.XL  NYSE.XOM  NYSE.XRX  NYSE.XYL  NYSE.YUM  \\\n",
       "0   119.035     44.40    39.88     82.03      7.36     50.22     63.86   \n",
       "1   119.035     44.11    39.88     82.03      7.38     50.22     63.74   \n",
       "2   119.260     44.09    39.98     82.02      7.36     50.12     63.75   \n",
       "3   119.260     44.25    39.99     82.02      7.35     50.16     63.88   \n",
       "4   119.610     44.11    39.96     82.03      7.36     50.20     63.91   \n",
       "\n",
       "   NYSE.ZBH  NYSE.ZTS  \n",
       "0   122.000    53.350  \n",
       "1   121.770    53.350  \n",
       "2   121.700    53.365  \n",
       "3   121.700    53.380  \n",
       "4   121.695    53.240  \n",
       "\n",
       "[5 rows x 502 columns]"
      ]
     },
     "execution_count": 23,
     "metadata": {},
     "output_type": "execute_result"
    }
   ],
   "source": [
    "data.head()"
   ]
  },
  {
   "cell_type": "code",
   "execution_count": 46,
   "metadata": {},
   "outputs": [
    {
     "data": {
      "text/plain": [
       "'there are no object type features so we do not need any one hot coding or lable encoding.\\nSince the feature size is 502 hence we need to apply dimension reduction technique.\\nWe will use principal component analysis for this purpose'"
      ]
     },
     "execution_count": 46,
     "metadata": {},
     "output_type": "execute_result"
    }
   ],
   "source": [
    "\"\"\"there are no object type features so we do not need any one hot coding or lable encoding.\n",
    "Since the feature size is 502 hence we need to apply dimension reduction technique.\n",
    "We will use principal component analysis for this purpose\"\"\""
   ]
  },
  {
   "cell_type": "code",
   "execution_count": 47,
   "metadata": {},
   "outputs": [],
   "source": [
    "from sklearn.decomposition import PCA"
   ]
  },
  {
   "cell_type": "code",
   "execution_count": 52,
   "metadata": {},
   "outputs": [],
   "source": [
    "pca = PCA(n_components= 0.95)"
   ]
  },
  {
   "cell_type": "code",
   "execution_count": 54,
   "metadata": {},
   "outputs": [],
   "source": [
    "data_pca = pca.fit_transform(data)"
   ]
  },
  {
   "cell_type": "code",
   "execution_count": 55,
   "metadata": {},
   "outputs": [
    {
     "data": {
      "text/plain": [
       "(41266, 1)"
      ]
     },
     "execution_count": 55,
     "metadata": {},
     "output_type": "execute_result"
    }
   ],
   "source": [
    "data_pca.shape"
   ]
  },
  {
   "cell_type": "code",
   "execution_count": 65,
   "metadata": {},
   "outputs": [
    {
     "data": {
      "text/plain": [
       "'lets drop date column and then use the dataframe to normalise the data and then apply PCA'"
      ]
     },
     "execution_count": 65,
     "metadata": {},
     "output_type": "execute_result"
    }
   ],
   "source": [
    "\"\"\"lets drop date column and then use the dataframe to normalise the data and then apply PCA\"\"\""
   ]
  },
  {
   "cell_type": "code",
   "execution_count": 64,
   "metadata": {},
   "outputs": [],
   "source": [
    "data_ = data.drop('DATE', axis = 1)"
   ]
  },
  {
   "cell_type": "code",
   "execution_count": 66,
   "metadata": {},
   "outputs": [
    {
     "data": {
      "text/html": [
       "<div>\n",
       "<style scoped>\n",
       "    .dataframe tbody tr th:only-of-type {\n",
       "        vertical-align: middle;\n",
       "    }\n",
       "\n",
       "    .dataframe tbody tr th {\n",
       "        vertical-align: top;\n",
       "    }\n",
       "\n",
       "    .dataframe thead th {\n",
       "        text-align: right;\n",
       "    }\n",
       "</style>\n",
       "<table border=\"1\" class=\"dataframe\">\n",
       "  <thead>\n",
       "    <tr style=\"text-align: right;\">\n",
       "      <th></th>\n",
       "      <th>SP500</th>\n",
       "      <th>NASDAQ.AAL</th>\n",
       "      <th>NASDAQ.AAPL</th>\n",
       "      <th>NASDAQ.ADBE</th>\n",
       "      <th>NASDAQ.ADI</th>\n",
       "      <th>NASDAQ.ADP</th>\n",
       "      <th>NASDAQ.ADSK</th>\n",
       "      <th>NASDAQ.AKAM</th>\n",
       "      <th>NASDAQ.ALXN</th>\n",
       "      <th>NASDAQ.AMAT</th>\n",
       "      <th>...</th>\n",
       "      <th>NYSE.WYN</th>\n",
       "      <th>NYSE.XEC</th>\n",
       "      <th>NYSE.XEL</th>\n",
       "      <th>NYSE.XL</th>\n",
       "      <th>NYSE.XOM</th>\n",
       "      <th>NYSE.XRX</th>\n",
       "      <th>NYSE.XYL</th>\n",
       "      <th>NYSE.YUM</th>\n",
       "      <th>NYSE.ZBH</th>\n",
       "      <th>NYSE.ZTS</th>\n",
       "    </tr>\n",
       "  </thead>\n",
       "  <tbody>\n",
       "    <tr>\n",
       "      <th>0</th>\n",
       "      <td>2363.6101</td>\n",
       "      <td>42.3300</td>\n",
       "      <td>143.6800</td>\n",
       "      <td>129.6300</td>\n",
       "      <td>82.040</td>\n",
       "      <td>102.2300</td>\n",
       "      <td>85.2200</td>\n",
       "      <td>59.760</td>\n",
       "      <td>121.52</td>\n",
       "      <td>38.99</td>\n",
       "      <td>...</td>\n",
       "      <td>84.370</td>\n",
       "      <td>119.035</td>\n",
       "      <td>44.40</td>\n",
       "      <td>39.88</td>\n",
       "      <td>82.03</td>\n",
       "      <td>7.36</td>\n",
       "      <td>50.22</td>\n",
       "      <td>63.86</td>\n",
       "      <td>122.000</td>\n",
       "      <td>53.350</td>\n",
       "    </tr>\n",
       "    <tr>\n",
       "      <th>1</th>\n",
       "      <td>2364.1001</td>\n",
       "      <td>42.3600</td>\n",
       "      <td>143.7000</td>\n",
       "      <td>130.3200</td>\n",
       "      <td>82.080</td>\n",
       "      <td>102.1400</td>\n",
       "      <td>85.6500</td>\n",
       "      <td>59.840</td>\n",
       "      <td>121.48</td>\n",
       "      <td>39.01</td>\n",
       "      <td>...</td>\n",
       "      <td>84.370</td>\n",
       "      <td>119.035</td>\n",
       "      <td>44.11</td>\n",
       "      <td>39.88</td>\n",
       "      <td>82.03</td>\n",
       "      <td>7.38</td>\n",
       "      <td>50.22</td>\n",
       "      <td>63.74</td>\n",
       "      <td>121.770</td>\n",
       "      <td>53.350</td>\n",
       "    </tr>\n",
       "    <tr>\n",
       "      <th>2</th>\n",
       "      <td>2362.6799</td>\n",
       "      <td>42.3100</td>\n",
       "      <td>143.6901</td>\n",
       "      <td>130.2250</td>\n",
       "      <td>82.030</td>\n",
       "      <td>102.2125</td>\n",
       "      <td>85.5100</td>\n",
       "      <td>59.795</td>\n",
       "      <td>121.93</td>\n",
       "      <td>38.91</td>\n",
       "      <td>...</td>\n",
       "      <td>84.585</td>\n",
       "      <td>119.260</td>\n",
       "      <td>44.09</td>\n",
       "      <td>39.98</td>\n",
       "      <td>82.02</td>\n",
       "      <td>7.36</td>\n",
       "      <td>50.12</td>\n",
       "      <td>63.75</td>\n",
       "      <td>121.700</td>\n",
       "      <td>53.365</td>\n",
       "    </tr>\n",
       "    <tr>\n",
       "      <th>3</th>\n",
       "      <td>2364.3101</td>\n",
       "      <td>42.3700</td>\n",
       "      <td>143.6400</td>\n",
       "      <td>130.0729</td>\n",
       "      <td>82.000</td>\n",
       "      <td>102.1400</td>\n",
       "      <td>85.4872</td>\n",
       "      <td>59.620</td>\n",
       "      <td>121.44</td>\n",
       "      <td>38.84</td>\n",
       "      <td>...</td>\n",
       "      <td>84.460</td>\n",
       "      <td>119.260</td>\n",
       "      <td>44.25</td>\n",
       "      <td>39.99</td>\n",
       "      <td>82.02</td>\n",
       "      <td>7.35</td>\n",
       "      <td>50.16</td>\n",
       "      <td>63.88</td>\n",
       "      <td>121.700</td>\n",
       "      <td>53.380</td>\n",
       "    </tr>\n",
       "    <tr>\n",
       "      <th>4</th>\n",
       "      <td>2364.8501</td>\n",
       "      <td>42.5378</td>\n",
       "      <td>143.6600</td>\n",
       "      <td>129.8800</td>\n",
       "      <td>82.035</td>\n",
       "      <td>102.0600</td>\n",
       "      <td>85.7001</td>\n",
       "      <td>59.620</td>\n",
       "      <td>121.60</td>\n",
       "      <td>38.93</td>\n",
       "      <td>...</td>\n",
       "      <td>84.470</td>\n",
       "      <td>119.610</td>\n",
       "      <td>44.11</td>\n",
       "      <td>39.96</td>\n",
       "      <td>82.03</td>\n",
       "      <td>7.36</td>\n",
       "      <td>50.20</td>\n",
       "      <td>63.91</td>\n",
       "      <td>121.695</td>\n",
       "      <td>53.240</td>\n",
       "    </tr>\n",
       "  </tbody>\n",
       "</table>\n",
       "<p>5 rows × 501 columns</p>\n",
       "</div>"
      ],
      "text/plain": [
       "       SP500  NASDAQ.AAL  NASDAQ.AAPL  NASDAQ.ADBE  NASDAQ.ADI  NASDAQ.ADP  \\\n",
       "0  2363.6101     42.3300     143.6800     129.6300      82.040    102.2300   \n",
       "1  2364.1001     42.3600     143.7000     130.3200      82.080    102.1400   \n",
       "2  2362.6799     42.3100     143.6901     130.2250      82.030    102.2125   \n",
       "3  2364.3101     42.3700     143.6400     130.0729      82.000    102.1400   \n",
       "4  2364.8501     42.5378     143.6600     129.8800      82.035    102.0600   \n",
       "\n",
       "   NASDAQ.ADSK  NASDAQ.AKAM  NASDAQ.ALXN  NASDAQ.AMAT    ...     NYSE.WYN  \\\n",
       "0      85.2200       59.760       121.52        38.99    ...       84.370   \n",
       "1      85.6500       59.840       121.48        39.01    ...       84.370   \n",
       "2      85.5100       59.795       121.93        38.91    ...       84.585   \n",
       "3      85.4872       59.620       121.44        38.84    ...       84.460   \n",
       "4      85.7001       59.620       121.60        38.93    ...       84.470   \n",
       "\n",
       "   NYSE.XEC  NYSE.XEL  NYSE.XL  NYSE.XOM  NYSE.XRX  NYSE.XYL  NYSE.YUM  \\\n",
       "0   119.035     44.40    39.88     82.03      7.36     50.22     63.86   \n",
       "1   119.035     44.11    39.88     82.03      7.38     50.22     63.74   \n",
       "2   119.260     44.09    39.98     82.02      7.36     50.12     63.75   \n",
       "3   119.260     44.25    39.99     82.02      7.35     50.16     63.88   \n",
       "4   119.610     44.11    39.96     82.03      7.36     50.20     63.91   \n",
       "\n",
       "   NYSE.ZBH  NYSE.ZTS  \n",
       "0   122.000    53.350  \n",
       "1   121.770    53.350  \n",
       "2   121.700    53.365  \n",
       "3   121.700    53.380  \n",
       "4   121.695    53.240  \n",
       "\n",
       "[5 rows x 501 columns]"
      ]
     },
     "execution_count": 66,
     "metadata": {},
     "output_type": "execute_result"
    }
   ],
   "source": [
    "data_.head()"
   ]
  },
  {
   "cell_type": "code",
   "execution_count": 67,
   "metadata": {},
   "outputs": [],
   "source": [
    "from sklearn.preprocessing import Normalizer"
   ]
  },
  {
   "cell_type": "code",
   "execution_count": 68,
   "metadata": {},
   "outputs": [],
   "source": [
    "normal = Normalizer()"
   ]
  },
  {
   "cell_type": "code",
   "execution_count": 70,
   "metadata": {},
   "outputs": [],
   "source": [
    "data_nom = normal.fit_transform(data_)"
   ]
  },
  {
   "cell_type": "code",
   "execution_count": 72,
   "metadata": {},
   "outputs": [
    {
     "data": {
      "text/plain": [
       "(41266, 501)"
      ]
     },
     "execution_count": 72,
     "metadata": {},
     "output_type": "execute_result"
    }
   ],
   "source": [
    "data_nom.shape"
   ]
  },
  {
   "cell_type": "code",
   "execution_count": 88,
   "metadata": {},
   "outputs": [],
   "source": [
    "data_pca = pca.fit_transform(data_nom)"
   ]
  },
  {
   "cell_type": "code",
   "execution_count": 177,
   "metadata": {},
   "outputs": [],
   "source": [
    "from sklearn.cluster import KMeans\n",
    "import matplotlib.pyplot as plt\n",
    "%matplotlib inline"
   ]
  },
  {
   "cell_type": "code",
   "execution_count": null,
   "metadata": {},
   "outputs": [],
   "source": [
    "returns = data.pct_change().mean() * 252\n",
    "returns = pd.DataFrame(returns)\n",
    "returns.columns = ['Returns']\n",
    "returns['Volatility'] = prices_df.pct_change().std() * sqrt(252)"
   ]
  },
  {
   "cell_type": "code",
   "execution_count": null,
   "metadata": {},
   "outputs": [],
   "source": [
    "distortions = []\n",
    "for i in range(1,50):\n",
    "    km = KMeans(n_clusters=i,init='k-means++',n_init=10,max_iter=300,random_state=0)\n",
    "    km.fit(data_pca)\n",
    "    distortions.append(km.inertia_)\n",
    "plt.plot(range (1,50),distortions, marker = 'o')\n",
    "plt.xlabel('number of clusters')\n",
    "plt.ylabel('distortion')\n",
    "plt.show()"
   ]
  },
  {
   "cell_type": "code",
   "execution_count": 162,
   "metadata": {},
   "outputs": [],
   "source": [
    "from math import sqrt"
   ]
  },
  {
   "cell_type": "code",
   "execution_count": 186,
   "metadata": {},
   "outputs": [
    {
     "data": {
      "text/plain": [
       "'Calculate average annual percentage return and volatilities over a theoretical one year period'"
      ]
     },
     "execution_count": 186,
     "metadata": {},
     "output_type": "execute_result"
    }
   ],
   "source": [
    "\"\"\"Calculate average annual percentage return and volatilities over a theoretical one year period\"\"\""
   ]
  },
  {
   "cell_type": "code",
   "execution_count": 200,
   "metadata": {},
   "outputs": [],
   "source": [
    "returns = data_.pct_change().mean() * 252\n",
    "returns = pd.DataFrame(returns)\n",
    "returns.columns = ['Returns']\n",
    "returns['Volatility'] = data_.pct_change().std() * sqrt(252)"
   ]
  },
  {
   "cell_type": "code",
   "execution_count": 187,
   "metadata": {},
   "outputs": [
    {
     "data": {
      "text/plain": [
       "'format the data as a numpy array to feed into the K-Means algorithm'"
      ]
     },
     "execution_count": 187,
     "metadata": {},
     "output_type": "execute_result"
    }
   ],
   "source": [
    "\"\"\"format the data as a numpy array to feed into the K-Means algorithm\"\"\""
   ]
  },
  {
   "cell_type": "code",
   "execution_count": 201,
   "metadata": {},
   "outputs": [],
   "source": [
    "data = np.asarray([np.asarray(returns['Returns']),np.asarray(returns['Volatility'])]).T"
   ]
  },
  {
   "cell_type": "code",
   "execution_count": 185,
   "metadata": {},
   "outputs": [
    {
     "data": {
      "text/plain": [
       "'Our first decision is to choose how many clusters do we actually want to separate the data into. Rather than make some arbitrary decision we can use an “Elbow Curve” to highlight the relationship between how many clusters we choose, and the Sum of Squared Errors (SSE) resulting from using that number of clusters.'"
      ]
     },
     "execution_count": 185,
     "metadata": {},
     "output_type": "execute_result"
    }
   ],
   "source": [
    "\"\"\"Our first decision is to choose how many clusters do we actually want to separate the data into. Rather than make some arbitrary decision we can use an “Elbow Curve” to highlight the relationship between how many clusters we choose, and the Sum of Squared Errors (SSE) resulting from using that number of clusters.\"\"\""
   ]
  },
  {
   "cell_type": "code",
   "execution_count": 202,
   "metadata": {},
   "outputs": [
    {
     "data": {
      "text/plain": [
       "Text(0.5, 1.0, 'Elbow curve')"
      ]
     },
     "execution_count": 202,
     "metadata": {},
     "output_type": "execute_result"
    },
    {
     "data": {
      "image/png": "[encoded data removed]",
      "text/plain": [
       "<Figure size 1080x360 with 1 Axes>"
      ]
     },
     "metadata": {
      "needs_background": "light"
     },
     "output_type": "display_data"
    }
   ],
   "source": [
    "X = data\n",
    "distortions = []\n",
    "for k in range(2, 20):\n",
    "    k_means = KMeans(n_clusters=k)\n",
    "    k_means.fit(X)\n",
    "    distortions.append(k_means.inertia_)\n",
    " \n",
    "fig = plt.figure(figsize=(15, 5))\n",
    "plt.plot(range(2, 20), distortions)\n",
    "plt.grid(True)\n",
    "plt.title('Elbow curve')"
   ]
  },
  {
   "cell_type": "code",
   "execution_count": 214,
   "metadata": {},
   "outputs": [
    {
     "data": {
      "text/plain": [
       "'from this elbow method we found that 4 could be the optimal number of clusters to fit with.'"
      ]
     },
     "execution_count": 214,
     "metadata": {},
     "output_type": "execute_result"
    }
   ],
   "source": [
    "\"\"\"from this elbow method we found that 4 could be the optimal number of clusters to fit with.\"\"\""
   ]
  },
  {
   "cell_type": "code",
   "execution_count": 215,
   "metadata": {},
   "outputs": [
    {
     "data": {
      "image/png": "[encoded data removed]",
      "text/plain": [
       "<Figure size 432x288 with 1 Axes>"
      ]
     },
     "metadata": {
      "needs_background": "light"
     },
     "output_type": "display_data"
    }
   ],
   "source": [
    "# computing K-Means with K = 4 (4 clusters)\n",
    "km = KMeans(n_clusters=5,init='random',n_init=10,max_iter=300,tol=1e-04,random_state=0)\n",
    "y_km = km.fit_predict(data)\n",
    "# some plotting using numpy's logical indexing\n",
    "plt.plot(data[y_km==0,0],data[y_km==0,1],'ob',\n",
    "     data[y_km==1,0],data[y_km==1,1],'oy',\n",
    "     data[y_km==2,0],data[y_km==2,1],'or',\n",
    "     data[y_km==3,0],data[y_km==3,1],'og',)\n",
    "plt.plot(km.cluster_centers_[:,0],km.cluster_centers_[:,1],'sg',markersize=8)\n",
    "plt.show()"
   ]
  },
  {
   "cell_type": "code",
   "execution_count": 183,
   "metadata": {},
   "outputs": [
    {
     "data": {
      "text/plain": [
       "'there is an outlier hence we need to drop it.'"
      ]
     },
     "execution_count": 183,
     "metadata": {},
     "output_type": "execute_result"
    }
   ],
   "source": [
    "\"\"\"there is an outlier hence we need to drop it.\"\"\""
   ]
  },
  {
   "cell_type": "code",
   "execution_count": 204,
   "metadata": {},
   "outputs": [
    {
     "name": "stdout",
     "output_type": "stream",
     "text": [
      "Returns       NYSE.XRX\n",
      "Volatility    NYSE.XRX\n",
      "dtype: object\n"
     ]
    }
   ],
   "source": [
    "#identify the outlier\n",
    "print(returns.idxmax())"
   ]
  },
  {
   "cell_type": "code",
   "execution_count": 205,
   "metadata": {},
   "outputs": [],
   "source": [
    "returns.drop('NYSE.XRX',inplace=True)\n",
    " \n",
    "#recreate data to feed into the algorithm\n",
    "data = np.asarray([np.asarray(returns['Returns']),np.asarray(returns['Volatility'])]).T"
   ]
  },
  {
   "cell_type": "code",
   "execution_count": 189,
   "metadata": {},
   "outputs": [
    {
     "data": {
      "text/plain": [
       "'re-run the K means algorithm to get results'"
      ]
     },
     "execution_count": 189,
     "metadata": {},
     "output_type": "execute_result"
    }
   ],
   "source": [
    "\"\"\"re-run the K means algorithm to get results\"\"\""
   ]
  },
  {
   "cell_type": "code",
   "execution_count": 216,
   "metadata": {},
   "outputs": [
    {
     "data": {
      "image/png": "[encoded data removed]",
      "text/plain": [
       "<Figure size 432x288 with 1 Axes>"
      ]
     },
     "metadata": {
      "needs_background": "light"
     },
     "output_type": "display_data"
    }
   ],
   "source": [
    "# computing K-Means with K = 4 (4 clusters)\n",
    "km = KMeans(n_clusters=5,init='random',n_init=10,max_iter=300,tol=1e-04,random_state=0)\n",
    "y_km = km.fit_predict(data)\n",
    "# some plotting using numpy's logical indexing\n",
    "plt.plot(data[y_km==0,0],data[y_km==0,1],'ob',\n",
    "     data[y_km==1,0],data[y_km==1,1],'oy',\n",
    "     data[y_km==2,0],data[y_km==2,1],'or',\n",
    "     data[y_km==3,0],data[y_km==3,1],'og')\n",
    "plt.plot(km.cluster_centers_[:,0],km.cluster_centers_[:,1],'sg',markersize=8)\n",
    "plt.show()"
   ]
  },
  {
   "cell_type": "code",
   "execution_count": 210,
   "metadata": {},
   "outputs": [
    {
     "data": {
      "image/png": "[encoded data removed]",
      "text/plain": [
       "<Figure size 432x288 with 1 Axes>"
      ]
     },
     "metadata": {
      "needs_background": "light"
     },
     "output_type": "display_data"
    }
   ],
   "source": [
    "plt.scatter(data[y_km == 0, 0],data[y_km == 0, 1],s=50, c='lightgreen',marker='s', edgecolor='black',label='cluster 1')\n",
    "plt.scatter(data[y_km == 1, 0],data[y_km == 1, 1],s=50, c='orange',marker='o', edgecolor='black',label='cluster 2')\n",
    "plt.scatter(data[y_km == 2, 0],data[y_km == 2, 1],s=50, c='lightblue',marker='v', edgecolor='black',label='cluster 3')\n",
    "plt.scatter(data[y_km == 3, 0],data[y_km == 3, 1],s=50, c='lime',marker='+', edgecolor='black',label='cluster 4')\n",
    "plt.scatter(km.cluster_centers_[:, 0],km.cluster_centers_[:, 1],s=250, marker='*',c='red', edgecolor='black',label='centroids')\n",
    "plt.legend(scatterpoints=1)\n",
    "plt.grid()\n",
    "plt.show()"
   ]
  },
  {
   "cell_type": "code",
   "execution_count": 208,
   "metadata": {},
   "outputs": [
    {
     "name": "stdout",
     "output_type": "stream",
     "text": [
      "('SP500', 0)\n",
      "('NASDAQ.AAL', 1)\n",
      "('NASDAQ.AAPL', 2)\n",
      "('NASDAQ.ADBE', 2)\n",
      "('NASDAQ.ADI', 2)\n",
      "('NASDAQ.ADP', 2)\n",
      "('NASDAQ.ADSK', 1)\n",
      "('NASDAQ.AKAM', 1)\n",
      "('NASDAQ.ALXN', 1)\n",
      "('NASDAQ.AMAT', 2)\n",
      "('NASDAQ.AMD', 3)\n",
      "('NASDAQ.AMGN', 0)\n",
      "('NASDAQ.AMZN', 2)\n",
      "('NASDAQ.ATVI', 2)\n",
      "('NASDAQ.AVGO', 2)\n",
      "('NASDAQ.BBBY', 1)\n",
      "('NASDAQ.BIIB', 2)\n",
      "('NASDAQ.CA', 1)\n",
      "('NASDAQ.CBOE', 0)\n",
      "('NASDAQ.CELG', 2)\n",
      "('NASDAQ.CERN', 2)\n",
      "('NASDAQ.CHRW', 2)\n",
      "('NASDAQ.CHTR', 1)\n",
      "('NASDAQ.CINF', 2)\n",
      "('NASDAQ.CMCSA', 2)\n",
      "('NASDAQ.CME', 0)\n",
      "('NASDAQ.COST', 2)\n",
      "('NASDAQ.CSCO', 2)\n",
      "('NASDAQ.CSX', 2)\n",
      "('NASDAQ.CTAS', 2)\n",
      "('NASDAQ.CTSH', 0)\n",
      "('NASDAQ.CTXS', 2)\n",
      "('NASDAQ.DISCA', 1)\n",
      "('NASDAQ.DISCK', 1)\n",
      "('NASDAQ.DISH', 2)\n",
      "('NASDAQ.DLTR', 1)\n",
      "('NASDAQ.EA', 1)\n",
      "('NASDAQ.EBAY', 2)\n",
      "('NASDAQ.EQIX', 2)\n",
      "('NASDAQ.ESRX', 1)\n",
      "('NASDAQ.ETFC', 2)\n",
      "('NASDAQ.EXPD', 2)\n",
      "('NASDAQ.EXPE', 2)\n",
      "('NASDAQ.FAST', 1)\n",
      "('NASDAQ.FB', 2)\n",
      "('NASDAQ.FFIV', 1)\n",
      "('NASDAQ.FISV', 0)\n",
      "('NASDAQ.FITB', 2)\n",
      "('NASDAQ.FLIR', 2)\n",
      "('NASDAQ.FOX', 2)\n",
      "('NASDAQ.FOXA', 2)\n",
      "('NASDAQ.GILD', 0)\n",
      "('NASDAQ.GOOG', 0)\n",
      "('NASDAQ.GOOGL', 2)\n",
      "('NASDAQ.GRMN', 2)\n",
      "('NASDAQ.GT', 1)\n",
      "('NASDAQ.HAS', 2)\n",
      "('NASDAQ.HBAN', 2)\n",
      "('NASDAQ.HOLX', 2)\n",
      "('NASDAQ.HSIC', 2)\n",
      "('NASDAQ.IDXX', 2)\n",
      "('NASDAQ.ILMN', 1)\n",
      "('NASDAQ.INCY', 3)\n",
      "('NASDAQ.INFO', 0)\n",
      "('NASDAQ.INTC', 0)\n",
      "('NASDAQ.INTU', 2)\n",
      "('NASDAQ.ISRG', 2)\n",
      "('NASDAQ.JBHT', 2)\n",
      "('NASDAQ.KHC', 0)\n",
      "('NASDAQ.KLAC', 2)\n",
      "('NASDAQ.LKQ', 2)\n",
      "('NASDAQ.LRCX', 1)\n",
      "('NASDAQ.MAR', 2)\n",
      "('NASDAQ.MAT', 1)\n",
      "('NASDAQ.MCHP', 2)\n",
      "('NASDAQ.MDLZ', 0)\n",
      "('NASDAQ.MNST', 2)\n",
      "('NASDAQ.MSFT', 0)\n",
      "('NASDAQ.MU', 1)\n",
      "('NASDAQ.MYL', 1)\n",
      "('NASDAQ.NAVI', 1)\n",
      "('NASDAQ.NDAQ', 0)\n",
      "('NASDAQ.NFLX', 1)\n",
      "('NASDAQ.NTAP', 2)\n",
      "('NASDAQ.NTRS', 2)\n",
      "('NASDAQ.NVDA', 3)\n",
      "('NASDAQ.NWS', 3)\n",
      "('NASDAQ.NWSA', 2)\n",
      "('NASDAQ.ORLY', 1)\n",
      "('NASDAQ.PAYX', 0)\n",
      "('NASDAQ.PBCT', 2)\n",
      "('NASDAQ.PCAR', 2)\n",
      "('NASDAQ.PCLN', 2)\n",
      "('NASDAQ.PDCO', 1)\n",
      "('NASDAQ.PYPL', 2)\n",
      "('NASDAQ.QCOM', 0)\n",
      "('NASDAQ.QRVO', 1)\n",
      "('NASDAQ.REGN', 1)\n",
      "('NASDAQ.ROST', 2)\n",
      "('NASDAQ.SBUX', 2)\n",
      "('NASDAQ.SNI', 1)\n",
      "('NASDAQ.SNPS', 0)\n",
      "('NASDAQ.SPLS', 1)\n",
      "('NASDAQ.SRCL', 2)\n",
      "('NASDAQ.STX', 3)\n",
      "('NASDAQ.SWKS', 2)\n",
      "('NASDAQ.SYMC', 2)\n",
      "('NASDAQ.TRIP', 1)\n",
      "('NASDAQ.TROW', 2)\n",
      "('NASDAQ.TSCO', 1)\n",
      "('NASDAQ.TXN', 0)\n",
      "('NASDAQ.ULTA', 1)\n",
      "('NASDAQ.VIAB', 1)\n",
      "('NASDAQ.VRSK', 0)\n",
      "('NASDAQ.VRSN', 0)\n",
      "('NASDAQ.VRTX', 3)\n",
      "('NASDAQ.WBA', 0)\n",
      "('NASDAQ.WDC', 1)\n",
      "('NASDAQ.WFM', 3)\n",
      "('NASDAQ.WLTW', 2)\n",
      "('NASDAQ.WYNN', 1)\n",
      "('NASDAQ.XLNX', 2)\n",
      "('NASDAQ.XRAY', 2)\n",
      "('NASDAQ.ZION', 2)\n",
      "('NYSE.A', 2)\n",
      "('NYSE.AAP', 3)\n",
      "('NYSE.ABBV', 0)\n",
      "('NYSE.ABC', 2)\n",
      "('NYSE.ABT', 0)\n",
      "('NYSE.ACN', 0)\n",
      "('NYSE.ADM', 2)\n",
      "('NYSE.ADS', 1)\n",
      "('NYSE.AEE', 0)\n",
      "('NYSE.AEP', 0)\n",
      "('NYSE.AES', 2)\n",
      "('NYSE.AET', 0)\n",
      "('NYSE.AFL', 0)\n",
      "('NYSE.AGN', 0)\n",
      "('NYSE.AIG', 0)\n",
      "('NYSE.AIV', 0)\n",
      "('NYSE.AIZ', 0)\n",
      "('NYSE.AJG', 0)\n",
      "('NYSE.ALB', 2)\n",
      "('NYSE.ALK', 2)\n",
      "('NYSE.ALL', 0)\n",
      "('NYSE.ALLE', 0)\n",
      "('NYSE.AME', 0)\n",
      "('NYSE.AMG', 2)\n",
      "('NYSE.AMP', 2)\n",
      "('NYSE.AMT', 0)\n",
      "('NYSE.AN', 1)\n",
      "('NYSE.ANTM', 2)\n",
      "('NYSE.AON', 0)\n",
      "('NYSE.APA', 1)\n",
      "('NYSE.APC', 1)\n",
      "('NYSE.APD', 0)\n",
      "('NYSE.APH', 0)\n",
      "('NYSE.ARE', 0)\n",
      "('NYSE.ARNC', 1)\n",
      "('NYSE.AVB', 0)\n",
      "('NYSE.AVY', 0)\n",
      "('NYSE.AWK', 0)\n",
      "('NYSE.AXP', 0)\n",
      "('NYSE.AYI', 1)\n",
      "('NYSE.AZO', 1)\n",
      "('NYSE.BA', 0)\n",
      "('NYSE.BAC', 2)\n",
      "('NYSE.BAX', 0)\n",
      "('NYSE.BBT', 2)\n",
      "('NYSE.BBY', 1)\n",
      "('NYSE.BCR', 1)\n",
      "('NYSE.BDX', 0)\n",
      "('NYSE.BEN', 0)\n",
      "('NYSE.BF.B', 2)\n",
      "('NYSE.BHI', 3)\n",
      "('NYSE.BK', 0)\n",
      "('NYSE.BLK', 0)\n",
      "('NYSE.BLL', 3)\n",
      "('NYSE.BMY', 2)\n",
      "('NYSE.BRK.B', 0)\n",
      "('NYSE.BSX', 0)\n",
      "('NYSE.BWA', 2)\n",
      "('NYSE.BXP', 0)\n",
      "('NYSE.C', 2)\n",
      "('NYSE.CAG', 0)\n",
      "('NYSE.CAH', 1)\n",
      "('NYSE.CAT', 2)\n",
      "('NYSE.CB', 0)\n",
      "('NYSE.CBG', 2)\n",
      "('NYSE.CBS', 2)\n",
      "('NYSE.CCI', 0)\n",
      "('NYSE.CCL', 0)\n",
      "('NYSE.CF', 1)\n",
      "('NYSE.CFG', 2)\n",
      "('NYSE.CHD', 0)\n",
      "('NYSE.CHK', 3)\n",
      "('NYSE.CI', 0)\n",
      "('NYSE.CL', 0)\n",
      "('NYSE.CLX', 0)\n",
      "('NYSE.CMA', 2)\n",
      "('NYSE.CMG', 1)\n",
      "('NYSE.CMI', 2)\n",
      "('NYSE.CMS', 0)\n",
      "('NYSE.CNC', 2)\n",
      "('NYSE.CNP', 0)\n",
      "('NYSE.COF', 2)\n",
      "('NYSE.COG', 1)\n",
      "('NYSE.COH', 1)\n",
      "('NYSE.COL', 2)\n",
      "('NYSE.COO', 2)\n",
      "('NYSE.COP', 2)\n",
      "('NYSE.COTY', 1)\n",
      "('NYSE.CPB', 2)\n",
      "('NYSE.CRM', 2)\n",
      "('NYSE.CSRA', 2)\n",
      "('NYSE.CTL', 1)\n",
      "('NYSE.CVS', 0)\n",
      "('NYSE.CVX', 0)\n",
      "('NYSE.CXO', 1)\n",
      "('NYSE.D', 0)\n",
      "('NYSE.DAL', 2)\n",
      "('NYSE.DD', 0)\n",
      "('NYSE.DE', 2)\n",
      "('NYSE.DFS', 2)\n",
      "('NYSE.DG', 1)\n",
      "('NYSE.DGX', 0)\n",
      "('NYSE.DHI', 2)\n",
      "('NYSE.DHR', 0)\n",
      "('NYSE.DIS', 0)\n",
      "('NYSE.DLPH', 2)\n",
      "('NYSE.DLR', 2)\n",
      "('NYSE.DOV', 2)\n",
      "('NYSE.DOW', 0)\n",
      "('NYSE.DPS', 0)\n",
      "('NYSE.DRI', 0)\n",
      "('NYSE.DTE', 0)\n",
      "('NYSE.DUK', 0)\n",
      "('NYSE.DVA', 2)\n",
      "('NYSE.DVN', 1)\n",
      "('NYSE.DXC', 2)\n",
      "('NYSE.ECL', 0)\n",
      "('NYSE.ED', 0)\n",
      "('NYSE.EFX', 2)\n",
      "('NYSE.EIX', 0)\n",
      "('NYSE.EL', 2)\n",
      "('NYSE.EMN', 2)\n",
      "('NYSE.EMR', 0)\n",
      "('NYSE.EOG', 2)\n",
      "('NYSE.EQR', 0)\n",
      "('NYSE.EQT', 1)\n",
      "('NYSE.ES', 0)\n",
      "('NYSE.ESS', 2)\n",
      "('NYSE.ETN', 2)\n",
      "('NYSE.ETR', 0)\n",
      "('NYSE.EVHC', 1)\n",
      "('NYSE.EW', 2)\n",
      "('NYSE.EXC', 0)\n",
      "('NYSE.EXR', 2)\n",
      "('NYSE.F', 2)\n",
      "('NYSE.FBHS', 0)\n",
      "('NYSE.FCX', 1)\n",
      "('NYSE.FDX', 0)\n",
      "('NYSE.FE', 0)\n",
      "('NYSE.FIS', 0)\n",
      "('NYSE.FL', 3)\n",
      "('NYSE.FLR', 1)\n",
      "('NYSE.FLS', 1)\n",
      "('NYSE.FMC', 2)\n",
      "('NYSE.FRT', 2)\n",
      "('NYSE.FTI', 1)\n",
      "('NYSE.FTV', 0)\n",
      "('NYSE.GD', 0)\n",
      "('NYSE.GE', 2)\n",
      "('NYSE.GGP', 1)\n",
      "('NYSE.GIS', 0)\n",
      "('NYSE.GLW', 2)\n",
      "('NYSE.GM', 2)\n",
      "('NYSE.GPC', 2)\n",
      "('NYSE.GPN', 2)\n",
      "('NYSE.GPS', 1)\n",
      "('NYSE.GS', 2)\n",
      "('NYSE.GWW', 1)\n",
      "('NYSE.HAL', 2)\n",
      "('NYSE.HBI', 2)\n",
      "('NYSE.HCA', 2)\n",
      "('NYSE.HCN', 0)\n",
      "('NYSE.HCP', 2)\n",
      "('NYSE.HD', 0)\n",
      "('NYSE.HES', 1)\n",
      "('NYSE.HIG', 0)\n",
      "('NYSE.HOG', 1)\n",
      "('NYSE.HON', 0)\n",
      "('NYSE.HP', 1)\n",
      "('NYSE.HPE', 2)\n",
      "('NYSE.HPQ', 2)\n",
      "('NYSE.HRB', 1)\n",
      "('NYSE.HRL', 2)\n",
      "('NYSE.HRS', 0)\n",
      "('NYSE.HST', 2)\n",
      "('NYSE.HSY', 0)\n",
      "('NYSE.HUM', 2)\n",
      "('NYSE.IBM', 0)\n",
      "('NYSE.ICE', 0)\n",
      "('NYSE.IFF', 0)\n",
      "('NYSE.IP', 0)\n",
      "('NYSE.IPG', 1)\n",
      "('NYSE.IR', 0)\n",
      "('NYSE.IRM', 2)\n",
      "('NYSE.IT', 2)\n",
      "('NYSE.ITW', 0)\n",
      "('NYSE.IVZ', 2)\n",
      "('NYSE.JCI', 2)\n",
      "('NYSE.JEC', 2)\n",
      "('NYSE.JNJ', 0)\n",
      "('NYSE.JNPR', 2)\n",
      "('NYSE.JPM', 0)\n",
      "('NYSE.JWN', 3)\n",
      "('NYSE.K', 0)\n",
      "('NYSE.KEY', 2)\n",
      "('NYSE.KIM', 1)\n",
      "('NYSE.KMB', 0)\n",
      "('NYSE.KMI', 2)\n",
      "('NYSE.KMX', 1)\n",
      "('NYSE.KO', 0)\n",
      "('NYSE.KORS', 3)\n",
      "('NYSE.KR', 1)\n",
      "('NYSE.KSS', 1)\n",
      "('NYSE.KSU', 2)\n",
      "('NYSE.L', 0)\n",
      "('NYSE.LB', 3)\n",
      "('NYSE.LEG', 0)\n",
      "('NYSE.LEN', 2)\n",
      "('NYSE.LH', 2)\n",
      "('NYSE.LLL', 2)\n",
      "('NYSE.LLY', 0)\n",
      "('NYSE.LMT', 0)\n",
      "('NYSE.LNC', 2)\n",
      "('NYSE.LNT', 0)\n",
      "('NYSE.LOW', 2)\n",
      "('NYSE.LUK', 2)\n",
      "('NYSE.LUV', 2)\n",
      "('NYSE.LVLT', 0)\n",
      "('NYSE.LYB', 2)\n",
      "('NYSE.M', 1)\n",
      "('NYSE.MA', 0)\n",
      "('NYSE.MAA', 0)\n",
      "('NYSE.MAC', 2)\n",
      "('NYSE.MAS', 0)\n",
      "('NYSE.MCD', 0)\n",
      "('NYSE.MCK', 2)\n",
      "('NYSE.MCO', 0)\n",
      "('NYSE.MDT', 0)\n",
      "('NYSE.MET', 2)\n",
      "('NYSE.MHK', 2)\n",
      "('NYSE.MKC', 2)\n",
      "('NYSE.MLM', 1)\n",
      "('NYSE.MMC', 0)\n",
      "('NYSE.MMM', 0)\n",
      "('NYSE.MNK', 1)\n",
      "('NYSE.MO', 2)\n",
      "('NYSE.MON', 0)\n",
      "('NYSE.MOS', 1)\n",
      "('NYSE.MPC', 2)\n",
      "('NYSE.MRK', 0)\n",
      "('NYSE.MRO', 1)\n",
      "('NYSE.MS', 2)\n",
      "('NYSE.MSI', 0)\n",
      "('NYSE.MTB', 2)\n",
      "('NYSE.MUR', 1)\n",
      "('NYSE.NBL', 1)\n",
      "('NYSE.NEE', 0)\n",
      "('NYSE.NEM', 2)\n",
      "('NYSE.NFX', 1)\n",
      "('NYSE.NI', 0)\n",
      "('NYSE.NKE', 2)\n",
      "('NYSE.NLSN', 2)\n",
      "('NYSE.NOC', 0)\n",
      "('NYSE.NOV', 1)\n",
      "('NYSE.NRG', 3)\n",
      "('NYSE.NSC', 2)\n",
      "('NYSE.NUE', 1)\n",
      "('NYSE.NWL', 2)\n",
      "('NYSE.O', 0)\n",
      "('NYSE.OKE', 2)\n",
      "('NYSE.OMC', 2)\n",
      "('NYSE.ORCL', 2)\n",
      "('NYSE.OXY', 2)\n",
      "('NYSE.PCG', 0)\n",
      "('NYSE.PEG', 0)\n",
      "('NYSE.PEP', 0)\n",
      "('NYSE.PFE', 0)\n",
      "('NYSE.PFG', 0)\n",
      "('NYSE.PG', 0)\n",
      "('NYSE.PGR', 0)\n",
      "('NYSE.PH', 2)\n",
      "('NYSE.PHM', 2)\n",
      "('NYSE.PKI', 0)\n",
      "('NYSE.PLD', 0)\n",
      "('NYSE.PM', 0)\n",
      "('NYSE.PNC', 2)\n",
      "('NYSE.PNR', 2)\n",
      "('NYSE.PNW', 0)\n",
      "('NYSE.PPG', 0)\n",
      "('NYSE.PPL', 0)\n",
      "('NYSE.PRGO', 1)\n",
      "('NYSE.PRU', 2)\n",
      "('NYSE.PSA', 2)\n",
      "('NYSE.PSX', 0)\n",
      "('NYSE.PVH', 1)\n",
      "('NYSE.PWR', 2)\n",
      "('NYSE.PX', 0)\n",
      "('NYSE.PXD', 1)\n",
      "('NYSE.RAI', 0)\n",
      "('NYSE.RCL', 2)\n",
      "('NYSE.REG', 2)\n",
      "('NYSE.RF', 1)\n",
      "('NYSE.RHI', 2)\n",
      "('NYSE.RHT', 2)\n",
      "('NYSE.RIG', 3)\n",
      "('NYSE.RJF', 2)\n",
      "('NYSE.RL', 1)\n",
      "('NYSE.ROK', 2)\n",
      "('NYSE.ROP', 0)\n",
      "('NYSE.RRC', 1)\n",
      "('NYSE.RSG', 0)\n",
      "('NYSE.RTN', 0)\n",
      "('NYSE.SCG', 2)\n",
      "('NYSE.SCHW', 2)\n",
      "('NYSE.SEE', 2)\n",
      "('NYSE.SHW', 2)\n",
      "('NYSE.SIG', 3)\n",
      "('NYSE.SJM', 2)\n",
      "('NYSE.SLB', 2)\n",
      "('NYSE.SLG', 2)\n",
      "('NYSE.SNA', 2)\n",
      "('NYSE.SO', 0)\n",
      "('NYSE.SPG', 2)\n",
      "('NYSE.SPGI', 0)\n",
      "('NYSE.SRE', 0)\n",
      "('NYSE.STI', 2)\n",
      "('NYSE.STT', 2)\n",
      "('NYSE.STZ', 2)\n",
      "('NYSE.SWK', 0)\n",
      "('NYSE.SYF', 1)\n",
      "('NYSE.SYK', 0)\n",
      "('NYSE.SYY', 0)\n",
      "('NYSE.T', 0)\n",
      "('NYSE.TAP', 2)\n",
      "('NYSE.TDG', 1)\n",
      "('NYSE.TEL', 2)\n",
      "('NYSE.TGT', 1)\n",
      "('NYSE.TIF', 2)\n",
      "('NYSE.TJX', 2)\n",
      "('NYSE.TMK', 0)\n",
      "('NYSE.TMO', 0)\n",
      "('NYSE.TRV', 0)\n",
      "('NYSE.TSN', 2)\n",
      "('NYSE.TSO', 2)\n",
      "('NYSE.TSS', 2)\n",
      "('NYSE.TWX', 0)\n",
      "('NYSE.TXT', 2)\n",
      "('NYSE.UA', 1)\n",
      "('NYSE.UAA', 1)\n",
      "('NYSE.UAL', 2)\n",
      "('NYSE.UDR', 0)\n",
      "('NYSE.UHS', 2)\n",
      "('NYSE.UNH', 0)\n",
      "('NYSE.UNM', 2)\n",
      "('NYSE.UNP', 0)\n",
      "('NYSE.UPS', 0)\n",
      "('NYSE.URI', 1)\n",
      "('NYSE.USB', 0)\n",
      "('NYSE.UTX', 0)\n",
      "('NYSE.V', 0)\n",
      "('NYSE.VAR', 0)\n",
      "('NYSE.VFC', 2)\n",
      "('NYSE.VLO', 2)\n",
      "('NYSE.VMC', 1)\n",
      "('NYSE.VNO', 1)\n",
      "('NYSE.VTR', 0)\n",
      "('NYSE.VZ', 0)\n",
      "('NYSE.WAT', 2)\n",
      "('NYSE.WEC', 0)\n",
      "('NYSE.WFC', 2)\n",
      "('NYSE.WHR', 2)\n",
      "('NYSE.WM', 0)\n",
      "('NYSE.WMB', 2)\n",
      "('NYSE.WMT', 0)\n",
      "('NYSE.WRK', 2)\n",
      "('NYSE.WU', 2)\n",
      "('NYSE.WY', 0)\n",
      "('NYSE.WYN', 2)\n",
      "('NYSE.XEC', 1)\n",
      "('NYSE.XEL', 0)\n",
      "('NYSE.XL', 0)\n",
      "('NYSE.XOM', 0)\n",
      "('NYSE.XYL', 2)\n",
      "('NYSE.YUM', 0)\n",
      "('NYSE.ZBH', 2)\n",
      "('NYSE.ZTS', 0)\n"
     ]
    }
   ],
   "source": [
    "details = [(name,cluster) for name, cluster in zip(returns.index,y_km)]\n",
    " \n",
    "for detail in details:\n",
    "    print(detail)"
   ]
  },
  {
   "cell_type": "code",
   "execution_count": null,
   "metadata": {},
   "outputs": [],
   "source": []
  }
 ],
 "metadata": {
  "kernelspec": {
   "display_name": "Python 3",
   "language": "python",
   "name": "python3"
  },
  "language_info": {
   "codemirror_mode": {
    "name": "ipython",
    "version": 3
   },
   "file_extension": ".py",
   "mimetype": "text/x-python",
   "name": "python",
   "nbconvert_exporter": "python",
   "pygments_lexer": "ipython3",
   "version": "3.6.7"
  }
 },
 "nbformat": 4,
 "nbformat_minor": 2
}
